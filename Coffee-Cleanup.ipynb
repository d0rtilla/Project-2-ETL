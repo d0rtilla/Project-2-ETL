{
 "cells": [
  {
   "cell_type": "markdown",
   "id": "07a114a4",
   "metadata": {},
   "source": [
    "# Overview:\n",
    "This jupyter notebook was used for exploring the datasets and cleaning them up so that they will be easier to work with when they are in the database. In this jupyter notebook we open `disappearance.csv` and `domestic-consumption.csv` as pandas dataframes, clean them and merge them together. We then also load `gdp_per_capita.csv` into a pandas dataframe and then clean up the data in the dataframe so that it only contains entries for countries found in the merged coffee consumption dataframe (`concat_consumption`). The cleaned dataframes are then saved as .csv files in the `cleaned-datasets` directory, which are then loaded into the `coffeegdp_db` database using sqlalchemy."
   ]
  },
  {
   "cell_type": "code",
   "execution_count": null,
   "id": "27443da3",
   "metadata": {},
   "outputs": [],
   "source": [
    "# import dependencies\n",
    "import requests\n",
    "import pandas as pd\n",
    "from sqlalchemy import create_engine, inspect"
   ]
  },
  {
   "cell_type": "markdown",
   "id": "44b6edc2",
   "metadata": {},
   "source": [
    "# Important:\n",
    "### Make sure your **username**, **password,** and **port** are all correct below before running the code in this notebook !!"
   ]
  },
  {
   "cell_type": "code",
   "execution_count": null,
   "id": "fa0a8379",
   "metadata": {},
   "outputs": [],
   "source": [
    "# Create database connection\n",
    "protocol = 'postgresql'\n",
    "username = 'postgres'\n",
    "password = 'bootcamp'\n",
    "host = 'localhost'\n",
    "port = 5432\n",
    "database_name = 'coffeegdp_db'\n",
    "rds_connection_string = f'{protocol}://{username}:{password}@{host}:{port}/{database_name}'\n",
    "engine = create_engine(rds_connection_string)"
   ]
  },
  {
   "cell_type": "markdown",
   "id": "c2845352",
   "metadata": {},
   "source": [
    "# Extract:\n",
    "Load our datasets into dataframes to be cleaned and then loaded."
   ]
  },
  {
   "cell_type": "code",
   "execution_count": null,
   "id": "a047450b",
   "metadata": {},
   "outputs": [],
   "source": [
    "# read disappearance.csv as dataframe\n",
    "import_consumption_path = \"datasets/disappearance.csv\"\n",
    "\n",
    "import_consumption_data = pd.read_csv(import_consumption_path)\n",
    "import_consumption_data"
   ]
  },
  {
   "cell_type": "code",
   "execution_count": null,
   "id": "3d2fd494",
   "metadata": {},
   "outputs": [],
   "source": [
    "# set path for exporting country consumption and reading it in dataframe\n",
    "export_consumption_path = \"datasets/domestic-consumption.csv\"\n",
    "\n",
    "export_consumption_data = pd.read_csv(export_consumption_path)\n",
    "export_consumption_data"
   ]
  },
  {
   "cell_type": "code",
   "execution_count": null,
   "id": "7555a5a7",
   "metadata": {
    "scrolled": true
   },
   "outputs": [],
   "source": [
    "# set path for gdp_per_capita.csv and open it in a dataframe\n",
    "gdp_path = \"datasets/gdp_per_capita.csv\"\n",
    "gdp_data = pd.read_csv(gdp_path)\n",
    "\n",
    "gdp_data"
   ]
  },
  {
   "cell_type": "markdown",
   "id": "4b80cc28",
   "metadata": {},
   "source": [
    "# Transform:\n",
    "Take newly created dataframes and clean them so they are easier to work with for any would be analysts using these datasets in the future."
   ]
  },
  {
   "cell_type": "code",
   "execution_count": null,
   "id": "29b48af9",
   "metadata": {},
   "outputs": [],
   "source": [
    "# rename disappearance to 'import' and 'disappearance' column to 'country'\n",
    "import_renamed = import_consumption_data.rename(columns ={\"disappearance\" : \"Country\"})\n",
    "import_renamed.head()"
   ]
  },
  {
   "cell_type": "code",
   "execution_count": null,
   "id": "23e1ed06",
   "metadata": {},
   "outputs": [],
   "source": [
    "# i originally was using this to change null values to 0, but i figured that for the intergrity of the data and for future analysis it would be better to keep the null entries as null instead of changing them to 0\n",
    "cleaned_import = import_renamed\n",
    "cleaned_import"
   ]
  },
  {
   "cell_type": "code",
   "execution_count": null,
   "id": "f604cc43",
   "metadata": {},
   "outputs": [],
   "source": [
    "# rename 'domestic_consumption' to 'country'\n",
    "export_renamed = export_consumption_data.rename(columns = {'domestic_consumption' : 'Country'})\n",
    "export_renamed"
   ]
  },
  {
   "cell_type": "code",
   "execution_count": null,
   "id": "d43a9ab1",
   "metadata": {},
   "outputs": [],
   "source": [
    "# merge import and export consumption dataframes on 'country' in 'concat_consumption'\n",
    "frames = [cleaned_import, export_renamed]\n",
    "\n",
    "concat_consumption = pd.concat(frames)\n",
    "concat_consumption = concat_consumption.set_index('Country')\n",
    "concat_consumption = concat_consumption.reset_index()\n",
    "\n",
    "concat_consumption"
   ]
  },
  {
   "cell_type": "code",
   "execution_count": null,
   "id": "ae073522",
   "metadata": {},
   "outputs": [],
   "source": [
    "# drop 'Belgium/Luxembourg'\n",
    "concat_consumption.drop(axis= 0,labels=[2], inplace=True)"
   ]
  },
  {
   "cell_type": "code",
   "execution_count": null,
   "id": "c8d0814b",
   "metadata": {},
   "outputs": [],
   "source": [
    "# rename a whole bunch of entries with strange blank spaces that do not match the names of countries in the gdp dataframe\n",
    "concat_consumption['Country'].replace({'Viet Nam' : \"Vietnam\"}, inplace=True)\n",
    "concat_consumption['Country'].replace({\"Côte d'Ivoire\" : \"Cote d'Ivoire\"}, inplace=True)\n",
    "concat_consumption['Country'].replace({'Bolivia (Plurinational State of)' : \"Bolivia\"}, inplace=True)\n",
    "concat_consumption['Country'].replace({\"Lao People's Democratic Republic\" : \"Lao PDR\"}, inplace=True)\n",
    "concat_consumption['Country'].replace({'   Austria' : \"Austria\"}, inplace=True)\n",
    "concat_consumption['Country'].replace({\"   Belgium\" : \"Belgium\"}, inplace=True)\n",
    "concat_consumption['Country'].replace({'   Bulgaria' : \"Bulgaria\"}, inplace=True)\n",
    "concat_consumption['Country'].replace({\"   Croatia\" : \"Croatia\"}, inplace=True)\n",
    "concat_consumption['Country'].replace({'   Cyprus' : \"Cyprus\"}, inplace=True)\n",
    "concat_consumption['Country'].replace({\"   Czech Republic\" : \"Czech Republic\"}, inplace=True)\n",
    "concat_consumption['Country'].replace({'   Denmark' : \"Denmark\"}, inplace=True)\n",
    "concat_consumption['Country'].replace({\"   Estonia\" : \"Estonia\"}, inplace=True)\n",
    "concat_consumption['Country'].replace({'   Finland' : \"Finland\"}, inplace=True)\n",
    "concat_consumption['Country'].replace({\"   France\" : \"France\"}, inplace=True)\n",
    "concat_consumption['Country'].replace({'   Germany' : \"Germany\"}, inplace=True)\n",
    "concat_consumption['Country'].replace({\"   Greece\" : \"Greece\"}, inplace=True)\n",
    "concat_consumption['Country'].replace({'   Hungary' : \"Hungary\"}, inplace=True)\n",
    "concat_consumption['Country'].replace({\"   Ireland\" : \"Ireland\"}, inplace=True)\n",
    "concat_consumption['Country'].replace({'   Italy' : \"Italy\"}, inplace=True)\n",
    "concat_consumption['Country'].replace({\"   Latvia\" : \"Latvia\"}, inplace=True)\n",
    "concat_consumption['Country'].replace({'   Lithuania' : \"Lithuania\"}, inplace=True)\n",
    "concat_consumption['Country'].replace({\"   Luxembourg\" : \"Luxembourg\"}, inplace=True)\n",
    "concat_consumption['Country'].replace({'   Malta' : \"Malta\"}, inplace=True)\n",
    "concat_consumption['Country'].replace({\"   Netherlands\" : \"Netherlands\"}, inplace=True)\n",
    "concat_consumption['Country'].replace({'   Poland' : \"Poland\"}, inplace=True)\n",
    "concat_consumption['Country'].replace({\"   Portugal\" : \"Portugal\"}, inplace=True)\n",
    "concat_consumption['Country'].replace({'   Romania' : \"Romania\"}, inplace=True)\n",
    "concat_consumption['Country'].replace({\"   Slovakia\" : \"Slovakia\"}, inplace=True)\n",
    "concat_consumption['Country'].replace({'   Slovenia' : \"Slovenia\"}, inplace=True)\n",
    "concat_consumption['Country'].replace({\"   Spain\" : \"Spain\"}, inplace=True)\n",
    "concat_consumption['Country'].replace({'   Sweden' : \"Sweden\"}, inplace=True)\n",
    "concat_consumption['Country'].replace({\"   United Kingdom\" : \"United Kingdom\"}, inplace=True)\n"
   ]
  },
  {
   "cell_type": "code",
   "execution_count": null,
   "id": "30ff4428",
   "metadata": {
    "scrolled": true
   },
   "outputs": [],
   "source": [
    "# rename column 'country name' to 'country'\n",
    "gdp_renamed = gdp_data.rename(columns={\"Country Name\" : \"Country\"})\n",
    "gdp_renamed"
   ]
  },
  {
   "cell_type": "code",
   "execution_count": null,
   "id": "44d6bb69",
   "metadata": {},
   "outputs": [],
   "source": [
    "# replace name of country 'United States' with 'USA'\n",
    "gdp_renamed['Country'].replace({'United States':'USA'}, inplace=True)"
   ]
  },
  {
   "cell_type": "code",
   "execution_count": null,
   "id": "f4d49e5e",
   "metadata": {
    "scrolled": true
   },
   "outputs": [],
   "source": [
    "# drop unnecessary years and columns\n",
    "gdp_renamed.drop(['Code','1960', '1961', '1962', '1963', '1964', '1965', '1966', '1967', '1968', '1969','1970', '1971', '1972', '1973', '1974', '1975', '1976', '1977', '1978', '1979', '1980', '1981', '1982', '1983', '1984', '1985', '1986', '1987', '1988', '1989', '2019', '2020', 'Unnamed: 65'], axis=1, inplace=True)\n",
    "gdp_renamed"
   ]
  },
  {
   "cell_type": "code",
   "execution_count": null,
   "id": "0512558f",
   "metadata": {},
   "outputs": [],
   "source": [
    "# renaming more strangely named countries\n",
    "gdp_renamed['Country'].replace({'Trinidad and Tobago' : \"Trinidad & Tobago\"}, inplace=True)\n",
    "gdp_renamed['Country'].replace({\"Venezuela, RB\" : \"Venezuela\"}, inplace=True)\n",
    "gdp_renamed['Country'].replace({'Slovak Republic' : \"Slovakia\"}, inplace=True)\n",
    "gdp_renamed['Country'].replace({\"Congo, Rep.\" : \"Congo\"}, inplace=True)\n",
    "gdp_renamed['Country'].replace({'Congo, Dem. Rep.' : \"Democratic Republic of Congo\"}, inplace=True)\n",
    "gdp_renamed['Country'].replace({\"Yemen, Rep.\" : \"Yemen\"}, inplace=True)\n"
   ]
  },
  {
   "cell_type": "code",
   "execution_count": null,
   "id": "edc31be4",
   "metadata": {
    "scrolled": true
   },
   "outputs": [],
   "source": [
    "# dropping all entries for countries not found in the 'concat_consumption' dataframe\n",
    "gdp_trimmed = gdp_renamed[gdp_renamed.Country.isin(concat_consumption.Country)]\n",
    "gdp_trimmed"
   ]
  },
  {
   "cell_type": "code",
   "execution_count": null,
   "id": "fd05ffc1",
   "metadata": {},
   "outputs": [],
   "source": [
    "gdp_trimmed.set_index('Country')"
   ]
  },
  {
   "cell_type": "code",
   "execution_count": null,
   "id": "8035825e",
   "metadata": {
    "scrolled": true
   },
   "outputs": [],
   "source": [
    "concat_consumption.set_index('Country')"
   ]
  },
  {
   "cell_type": "markdown",
   "id": "8c4fe66a",
   "metadata": {},
   "source": [
    "# Load:\n",
    "Append info from cleaned dataframes to tables in `coffeegdp_db` database"
   ]
  },
  {
   "cell_type": "code",
   "execution_count": null,
   "id": "d680fa85",
   "metadata": {},
   "outputs": [],
   "source": [
    "# save cleaned datasets to 'cleaned-datasets' directory\n",
    "gdp_trimmed.to_csv('cleaned-datasets/trimmed_gdp.csv', index=False)\n",
    "concat_consumption.to_csv('cleaned-datasets/concat_consumption.csv', index=False)"
   ]
  },
  {
   "cell_type": "code",
   "execution_count": null,
   "id": "cde1cedb",
   "metadata": {},
   "outputs": [],
   "source": [
    "# Confirm tables\n",
    "inspector = inspect(engine)\n",
    "inspector.get_table_names()"
   ]
  },
  {
   "cell_type": "code",
   "execution_count": null,
   "id": "2f5c05fb",
   "metadata": {},
   "outputs": [],
   "source": [
    "# append entries of 'concat_consumption' df to 'concat_consumption' table in database (this code will NOT run again and create duplicates if it has already been run once)\n",
    "concat_consumption.to_sql(name='concat_consumption', con=engine, if_exists='append', index=False)"
   ]
  },
  {
   "cell_type": "code",
   "execution_count": null,
   "id": "04f1eac3",
   "metadata": {},
   "outputs": [],
   "source": [
    "# append entries of 'gdp_trimmed' df to 'trimmed_gdp' table in database (this code will NOT run again and create duplicates if it has already been run once)\n",
    "gdp_trimmed.to_sql(name='trimmed_gdp', con=engine, if_exists='append', index=False)"
   ]
  }
 ],
 "metadata": {
  "kernelspec": {
   "display_name": "Python 3 (ipykernel)",
   "language": "python",
   "name": "python3"
  },
  "language_info": {
   "codemirror_mode": {
    "name": "ipython",
    "version": 3
   },
   "file_extension": ".py",
   "mimetype": "text/x-python",
   "name": "python",
   "nbconvert_exporter": "python",
   "pygments_lexer": "ipython3",
   "version": "3.8.13"
  }
 },
 "nbformat": 4,
 "nbformat_minor": 5
}
